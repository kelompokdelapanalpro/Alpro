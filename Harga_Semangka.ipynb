{
  "nbformat": 4,
  "nbformat_minor": 0,
  "metadata": {
    "colab": {
      "provenance": [],
      "mount_file_id": "1XdLDYcLgqHuY1XzRNNLfRjCuP8RUE4Mu",
      "authorship_tag": "ABX9TyNxgAyGGzZLnBdLe2QYLKlb",
      "include_colab_link": true
    },
    "kernelspec": {
      "name": "python3",
      "display_name": "Python 3"
    },
    "language_info": {
      "name": "python"
    }
  },
  "cells": [
    {
      "cell_type": "markdown",
      "metadata": {
        "id": "view-in-github",
        "colab_type": "text"
      },
      "source": [
        "<a href=\"https://colab.research.google.com/github/kelompokdelapanalpro/Alpro/blob/main/Harga_Semangka.ipynb\" target=\"_parent\"><img src=\"https://colab.research.google.com/assets/colab-badge.svg\" alt=\"Open In Colab\"/></a>"
      ]
    },
    {
      "cell_type": "code",
      "execution_count": null,
      "metadata": {
        "colab": {
          "base_uri": "https://localhost:8080/"
        },
        "id": "9_sMwp0QNR3E",
        "outputId": "0de94d6b-83d8-454f-adaa-96d67ecf0df3"
      },
      "outputs": [
        {
          "output_type": "stream",
          "name": "stdout",
          "text": [
            "Drive already mounted at /content/drive; to attempt to forcibly remount, call drive.mount(\"/content/drive\", force_remount=True).\n"
          ]
        }
      ],
      "source": [
        "from google.colab import drive\n",
        "drive.mount('/content/drive')  # Autentikasi untuk akses Google Drive"
      ]
    },
    {
      "cell_type": "code",
      "source": [
        "#menentukan path dan melihat isi folder\n",
        "import os\n",
        "\n",
        "file_path = '/content/drive/MyDrive/regresi_linear/semangka_2000dataset.csv'\n",
        "parent_folder = os.path.dirname(file_path)\n",
        "\n",
        "print(f\"Daftar file dalam folder: {parent_folder}\")\n",
        "try:\n",
        "    for root, dirs, files in os.walk(parent_folder):\n",
        "        for file in files:\n",
        "            print(os.path.join(root, file))\n",
        "except Exception as e:\n",
        "    print(f\"Could not list files in {parent_folder}: {e}\")"
      ],
      "metadata": {
        "colab": {
          "base_uri": "https://localhost:8080/"
        },
        "id": "A4JuaaSxNmv0",
        "outputId": "728e97fc-001b-446a-8813-45dd21ef083c"
      },
      "execution_count": null,
      "outputs": [
        {
          "output_type": "stream",
          "name": "stdout",
          "text": [
            "Daftar file dalam folder: /content/drive/MyDrive/regresi_linear\n",
            "/content/drive/MyDrive/regresi_linear/semangka_2000dataset.csv\n"
          ]
        }
      ]
    },
    {
      "cell_type": "code",
      "source": [
        "#membaca dataset csv\n",
        "import pandas as pd\n",
        "\n",
        "df = pd.read_csv(file_path)\n",
        "print(\"\\nFirst 5 rows of the DataFrame:\")\n",
        "print(df.head().to_markdown(index=False, numalign=\"left\", stralign=\"left\"))"
      ],
      "metadata": {
        "colab": {
          "base_uri": "https://localhost:8080/"
        },
        "id": "nlBqxwvJNwGX",
        "outputId": "f59eaab7-d372-4cb7-e490-75cf1ad39a54"
      },
      "execution_count": null,
      "outputs": [
        {
          "output_type": "stream",
          "name": "stdout",
          "text": [
            "\n",
            "First 5 rows of the DataFrame:\n",
            "| Ukuran   | Harga   | Kategori Harga   |\n",
            "|:---------|:--------|:-----------------|\n",
            "| 3.29     | 28162   | Mahal            |\n",
            "| 1.88     | 13028   | Sedang           |\n",
            "| 4.45     | 36474   | Mahal            |\n",
            "| 3.97     | 34235   | Mahal            |\n",
            "| 2.66     | 21193   | Mahal            |\n"
          ]
        }
      ]
    },
    {
      "cell_type": "code",
      "source": [
        "#informasi umum dataset\n",
        "print(\"\\nDataset Info:\")\n",
        "df.info()\n",
        "\n",
        "print(\"\\nDataset Description:\")\n",
        "print(df.describe().to_markdown(numalign=\"left\", stralign=\"left\"))\n",
        "\n",
        "print(\"\\nColumn Names:\")\n",
        "print(df.columns.tolist())\n",
        "\n",
        "print(\"\\nDataset Shape:\")\n",
        "print(df.shape)\n"
      ],
      "metadata": {
        "colab": {
          "base_uri": "https://localhost:8080/"
        },
        "id": "RVfTMCJrN27s",
        "outputId": "0cbfa15a-defc-4da2-b70a-6cc441e0bda9"
      },
      "execution_count": null,
      "outputs": [
        {
          "output_type": "stream",
          "name": "stdout",
          "text": [
            "\n",
            "Dataset Info:\n",
            "<class 'pandas.core.frame.DataFrame'>\n",
            "RangeIndex: 2000 entries, 0 to 1999\n",
            "Data columns (total 3 columns):\n",
            " #   Column          Non-Null Count  Dtype  \n",
            "---  ------          --------------  -----  \n",
            " 0   Ukuran          2000 non-null   float64\n",
            " 1   Harga           2000 non-null   int64  \n",
            " 2   Kategori Harga  2000 non-null   object \n",
            "dtypes: float64(1), int64(1), object(1)\n",
            "memory usage: 47.0+ KB\n",
            "\n",
            "Dataset Description:\n",
            "|       | Ukuran   | Harga   |\n",
            "|:------|:---------|:--------|\n",
            "| count | 2000     | 2000    |\n",
            "| mean  | 3.00317  | 23727.2 |\n",
            "| std   | 1.15031  | 9318.2  |\n",
            "| min   | 1        | 8000    |\n",
            "| 25%   | 2.04     | 16056.2 |\n",
            "| 50%   | 2.98     | 23660.5 |\n",
            "| 75%   | 3.98     | 31400.2 |\n",
            "| max   | 5        | 44218   |\n",
            "\n",
            "Column Names:\n",
            "['Ukuran', 'Harga', 'Kategori Harga']\n",
            "\n",
            "Dataset Shape:\n",
            "(2000, 3)\n"
          ]
        }
      ]
    },
    {
      "cell_type": "code",
      "source": [
        "# Cek jumlah tiap kategori jika ada label\n",
        "print(df['Kategori Harga'].value_counts())"
      ],
      "metadata": {
        "colab": {
          "base_uri": "https://localhost:8080/"
        },
        "id": "SkSqR4BBOCjW",
        "outputId": "664f5305-922c-4f6d-f0ce-c32c8fa04291"
      },
      "execution_count": null,
      "outputs": [
        {
          "output_type": "stream",
          "name": "stdout",
          "text": [
            "Kategori Harga\n",
            "Mahal     1369\n",
            "Sedang     364\n",
            "Murah      267\n",
            "Name: count, dtype: int64\n"
          ]
        }
      ]
    },
    {
      "cell_type": "code",
      "source": [
        "#MENAMPILKAN ISI FOLDER + PERKIRAAN LABEL DARI STRUKTUR FILE\n",
        "def list_files_with_labels(directory_path):\n",
        "    print(f\"\\nContent and potential labels for: {directory_path}\")\n",
        "    try:\n",
        "        for item_name in os.listdir(directory_path):\n",
        "            item_path = os.path.join(directory_path, item_name)\n",
        "            if os.path.isdir(item_path):\n",
        "                print(f\"Folder: {item_name} - Potential label based on folder name: '{item_name}'\")\n",
        "            elif os.path.isfile(item_path):\n",
        "                print(f\"File: {item_name}\")\n",
        "    except FileNotFoundError:\n",
        "        print(f\"Error: Directory not found at {directory_path}\")\n",
        "    except Exception as e:\n",
        "        print(f\"An error occurred while listing directory contents: {e}\")\n",
        "\n",
        "# Panggil fungsi\n",
        "list_files_with_labels(parent_folder)"
      ],
      "metadata": {
        "colab": {
          "base_uri": "https://localhost:8080/"
        },
        "id": "XxsFaqvhOJAQ",
        "outputId": "b06bf4a2-53c4-4ab3-acd9-7f27bc633d7d"
      },
      "execution_count": null,
      "outputs": [
        {
          "output_type": "stream",
          "name": "stdout",
          "text": [
            "\n",
            "Content and potential labels for: /content/drive/MyDrive/regresi_linear\n",
            "File: semangka_2000dataset.csv\n"
          ]
        }
      ]
    },
    {
      "cell_type": "code",
      "source": [
        "#coding untuk split dataset\n",
        "\n",
        "from sklearn.model_selection import train_test_split\n",
        "\n",
        "# Asumsi 'Kategori Harga' adalah kolom target (label)\n",
        "X = df.drop('Kategori Harga', axis=1)\n",
        "y = df['Kategori Harga']\n",
        "\n",
        "# Split data menjadi training set dan testing set\n",
        "# test_size: persentase data untuk testing (contoh: 20%)\n",
        "# random_state: memastikan split yang sama setiap kali kode dijalankan\n",
        "X_train, X_test, y_train, y_test = train_test_split(X, y, test_size=0.2, random_state=42)\n",
        "\n",
        "print(\"\\nShape of X_train:\", X_train.shape)\n",
        "print(\"Shape of X_test:\", X_test.shape)\n",
        "print(\"Shape of y_train:\", y_train.shape)\n",
        "print(\"Shape of y_test:\", y_test.shape)\n",
        "\n",
        "print(\"\\nFirst 5 rows of X_train:\")\n",
        "print(X_train.head().to_markdown(index=False, numalign=\"left\", stralign=\"left\"))\n",
        "\n",
        "print(\"\\nFirst 5 rows of y_train:\")\n",
        "print(y_train.head().to_markdown(numalign=\"left\", stralign=\"left\"))\n",
        "\n",
        "# Jika ingin membagi menjadi training, validation, dan testing\n",
        "# Pertama, bagi data menjadi training dan sementara (validation + testing)\n",
        "X_train_val, X_test, y_train_val, y_test = train_test_split(X, y, test_size=0.2, random_state=42)\n",
        "\n",
        "# Kedua, bagi data sementara menjadi training dan validation\n",
        "# Ukuran validation set 0.25 dari sisa 0.8 (0.8 * 0.25 = 0.2 dari total)\n",
        "X_train, X_val, y_train, y_val = train_test_split(X_train_val, y_train_val, test_size=0.25, random_state=42)\n",
        "\n",
        "print(\"\\n--- Splitting into Train, Validation, Test ---\")\n",
        "print(\"Shape of X_train:\", X_train.shape)\n",
        "print(\"Shape of X_val:\", X_val.shape)\n",
        "print(\"Shape of X_test:\", X_test.shape)\n",
        "print(\"Shape of y_train:\", y_train.shape)\n",
        "print(\"Shape of y_val:\", y_val.shape)\n",
        "print(\"Shape of y_test:\", y_test.shape)\n"
      ],
      "metadata": {
        "colab": {
          "base_uri": "https://localhost:8080/"
        },
        "id": "LrjKjlFnOPnH",
        "outputId": "cdf59726-a72d-4471-90b1-41b29a163f90"
      },
      "execution_count": null,
      "outputs": [
        {
          "output_type": "stream",
          "name": "stdout",
          "text": [
            "\n",
            "Shape of X_train: (1600, 2)\n",
            "Shape of X_test: (400, 2)\n",
            "Shape of y_train: (1600,)\n",
            "Shape of y_test: (400,)\n",
            "\n",
            "First 5 rows of X_train:\n",
            "| Ukuran   | Harga   |\n",
            "|:---------|:--------|\n",
            "| 4.27     | 35790   |\n",
            "| 4.31     | 32287   |\n",
            "| 2.41     | 22908   |\n",
            "| 4.51     | 40232   |\n",
            "| 3.22     | 26427   |\n",
            "\n",
            "First 5 rows of y_train:\n",
            "|     | Kategori Harga   |\n",
            "|:----|:-----------------|\n",
            "| 968 | Mahal            |\n",
            "| 240 | Mahal            |\n",
            "| 819 | Mahal            |\n",
            "| 692 | Mahal            |\n",
            "| 420 | Mahal            |\n",
            "\n",
            "--- Splitting into Train, Validation, Test ---\n",
            "Shape of X_train: (1200, 2)\n",
            "Shape of X_val: (400, 2)\n",
            "Shape of X_test: (400, 2)\n",
            "Shape of y_train: (1200,)\n",
            "Shape of y_val: (400,)\n",
            "Shape of y_test: (400,)\n"
          ]
        }
      ]
    },
    {
      "cell_type": "code",
      "source": [
        "try:\n",
        "    print(\"Generating dummy y_pred for demonstration...\")\n",
        "    # Apply the classification function directly to the 'Harga' column\n",
        "    y_pred_label = X_test['Harga'].apply(klasifikasi_harga).tolist()\n",
        "except NameError:\n",
        "    print(\"X_test is not defined.\")\n",
        "    y_pred_label = []\n",
        "\n",
        "\n",
        "print(\"First 5 predicted labels:\")\n",
        "print(y_pred_label[:5])\n",
        "\n",
        "print(\"\\nFirst 5 actual labels:\")\n",
        "print(y_test.head().tolist())"
      ],
      "metadata": {
        "colab": {
          "base_uri": "https://localhost:8080/"
        },
        "id": "5uuWIWkTPHqd",
        "outputId": "88f91223-b2cb-491b-be17-24c8060dae4d"
      },
      "execution_count": null,
      "outputs": [
        {
          "output_type": "stream",
          "name": "stdout",
          "text": [
            "Generating dummy y_pred for demonstration...\n",
            "First 5 predicted labels:\n",
            "['Mahal', 'Mahal', 'Mahal', 'Mahal', 'Mahal']\n",
            "\n",
            "First 5 actual labels:\n",
            "['Mahal', 'Mahal', 'Mahal', 'Mahal', 'Sedang']\n"
          ]
        }
      ]
    },
    {
      "cell_type": "code",
      "source": [
        "import tensorflow as tf\n",
        "from tensorflow.keras.models import Sequential\n",
        "from tensorflow.keras.layers import Dense\n",
        "from sklearn.preprocessing import StandardScaler, OneHotEncoder\n",
        "from sklearn.compose import ColumnTransformer\n",
        "from sklearn.pipeline import Pipeline\n",
        "from sklearn.model_selection import train_test_split\n",
        "import numpy as np\n",
        "\n",
        "# Scaling numerical data and One-Hot Encoding categorical data\n",
        "# Assuming 'Ukuran' and 'Harga' are numerical features and 'Kategori Harga' is the target\n",
        "# We will encode the target variable separately\n",
        "\n",
        "# Split the data first\n",
        "X = df[['Ukuran', 'Harga']] # Select only the features for the model\n",
        "y = df['Kategori Harga']\n",
        "\n",
        "X_train, X_test, y_train, y_test = train_test_split(X, y, test_size=0.2, random_state=42)\n",
        "\n",
        "# Scale numerical features\n",
        "scaler = StandardScaler()\n",
        "X_train_scaled = scaler.fit_transform(X_train)\n",
        "X_test_scaled = scaler.transform(X_test) # Use transform on test set\n",
        "\n",
        "# One-Hot Encode the target variable\n",
        "encoder = OneHotEncoder(sparse_output=False)\n",
        "y_train_encoded = encoder.fit_transform(y_train.values.reshape(-1, 1))\n",
        "y_test_encoded = encoder.transform(y_test.values.reshape(-1, 1))\n",
        "\n",
        "# Bangun model neural network for multi-class classification\n",
        "model = Sequential([\n",
        "    Dense(64, activation='relu', input_shape=(X_train_scaled.shape[1],)), # Added a hidden layer\n",
        "    Dense(32, activation='relu'), # Added another hidden layer\n",
        "    Dense(y_train_encoded.shape[1], activation='softmax') # Output layer with number of classes and softmax activation\n",
        "])\n",
        "\n",
        "model.compile(optimizer='adam',\n",
        "              loss='categorical_crossentropy', # Use categorical_crossentropy for one-hot encoded labels\n",
        "              metrics=['accuracy'])\n",
        "\n",
        "EPOCHS_VALUE = 30\n",
        "history = model.fit(X_train_scaled, y_train_encoded, epochs=EPOCHS_VALUE, verbose=1, validation_split=0.2)\n",
        "\n",
        "# Evaluate the model\n",
        "loss, accuracy = model.evaluate(X_test_scaled, y_test_encoded, verbose=0)\n",
        "print(f\"\\nTest Loss: {loss:.4f}\")\n",
        "print(f\"Test Accuracy: {accuracy:.4f}\")\n",
        "\n",
        "# Make predictions (optional)\n",
        "# y_pred_encoded = model.predict(X_test_scaled)\n",
        "# y_pred_labels = encoder.inverse_transform(y_pred_encoded)\n",
        "# print(\"\\nFirst 5 predicted labels:\")\n",
        "# print(y_pred_labels[:5].flatten().tolist())\n",
        "# print(\"\\nFirst 5 actual labels:\")\n",
        "# print(y_test.head().tolist())"
      ],
      "metadata": {
        "colab": {
          "base_uri": "https://localhost:8080/"
        },
        "id": "gxqoSiPpPPuE",
        "outputId": "b0b0e74e-3988-47e4-cea9-5af47fad582f"
      },
      "execution_count": null,
      "outputs": [
        {
          "output_type": "stream",
          "name": "stdout",
          "text": [
            "Epoch 1/30\n"
          ]
        },
        {
          "output_type": "stream",
          "name": "stderr",
          "text": [
            "/usr/local/lib/python3.11/dist-packages/keras/src/layers/core/dense.py:87: UserWarning: Do not pass an `input_shape`/`input_dim` argument to a layer. When using Sequential models, prefer using an `Input(shape)` object as the first layer in the model instead.\n",
            "  super().__init__(activity_regularizer=activity_regularizer, **kwargs)\n"
          ]
        },
        {
          "output_type": "stream",
          "name": "stdout",
          "text": [
            "\u001b[1m40/40\u001b[0m \u001b[32m━━━━━━━━━━━━━━━━━━━━\u001b[0m\u001b[37m\u001b[0m \u001b[1m2s\u001b[0m 9ms/step - accuracy: 0.7138 - loss: 0.8808 - val_accuracy: 0.7219 - val_loss: 0.5977\n",
            "Epoch 2/30\n",
            "\u001b[1m40/40\u001b[0m \u001b[32m━━━━━━━━━━━━━━━━━━━━\u001b[0m\u001b[37m\u001b[0m \u001b[1m0s\u001b[0m 5ms/step - accuracy: 0.7767 - loss: 0.5381 - val_accuracy: 0.8969 - val_loss: 0.4174\n",
            "Epoch 3/30\n",
            "\u001b[1m40/40\u001b[0m \u001b[32m━━━━━━━━━━━━━━━━━━━━\u001b[0m\u001b[37m\u001b[0m \u001b[1m0s\u001b[0m 4ms/step - accuracy: 0.9086 - loss: 0.3472 - val_accuracy: 0.9062 - val_loss: 0.3173\n",
            "Epoch 4/30\n",
            "\u001b[1m40/40\u001b[0m \u001b[32m━━━━━━━━━━━━━━━━━━━━\u001b[0m\u001b[37m\u001b[0m \u001b[1m0s\u001b[0m 4ms/step - accuracy: 0.9089 - loss: 0.2817 - val_accuracy: 0.9500 - val_loss: 0.2557\n",
            "Epoch 5/30\n",
            "\u001b[1m40/40\u001b[0m \u001b[32m━━━━━━━━━━━━━━━━━━━━\u001b[0m\u001b[37m\u001b[0m \u001b[1m0s\u001b[0m 4ms/step - accuracy: 0.9555 - loss: 0.2162 - val_accuracy: 0.9344 - val_loss: 0.2084\n",
            "Epoch 6/30\n",
            "\u001b[1m40/40\u001b[0m \u001b[32m━━━━━━━━━━━━━━━━━━━━\u001b[0m\u001b[37m\u001b[0m \u001b[1m0s\u001b[0m 5ms/step - accuracy: 0.9530 - loss: 0.1732 - val_accuracy: 0.9406 - val_loss: 0.1716\n",
            "Epoch 7/30\n",
            "\u001b[1m40/40\u001b[0m \u001b[32m━━━━━━━━━━━━━━━━━━━━\u001b[0m\u001b[37m\u001b[0m \u001b[1m0s\u001b[0m 4ms/step - accuracy: 0.9683 - loss: 0.1421 - val_accuracy: 0.9594 - val_loss: 0.1445\n",
            "Epoch 8/30\n",
            "\u001b[1m40/40\u001b[0m \u001b[32m━━━━━━━━━━━━━━━━━━━━\u001b[0m\u001b[37m\u001b[0m \u001b[1m0s\u001b[0m 4ms/step - accuracy: 0.9713 - loss: 0.1319 - val_accuracy: 0.9750 - val_loss: 0.1245\n",
            "Epoch 9/30\n",
            "\u001b[1m40/40\u001b[0m \u001b[32m━━━━━━━━━━━━━━━━━━━━\u001b[0m\u001b[37m\u001b[0m \u001b[1m0s\u001b[0m 4ms/step - accuracy: 0.9734 - loss: 0.1192 - val_accuracy: 0.9594 - val_loss: 0.1152\n",
            "Epoch 10/30\n",
            "\u001b[1m40/40\u001b[0m \u001b[32m━━━━━━━━━━━━━━━━━━━━\u001b[0m\u001b[37m\u001b[0m \u001b[1m0s\u001b[0m 4ms/step - accuracy: 0.9772 - loss: 0.1030 - val_accuracy: 0.9625 - val_loss: 0.1034\n",
            "Epoch 11/30\n",
            "\u001b[1m40/40\u001b[0m \u001b[32m━━━━━━━━━━━━━━━━━━━━\u001b[0m\u001b[37m\u001b[0m \u001b[1m1s\u001b[0m 9ms/step - accuracy: 0.9819 - loss: 0.0876 - val_accuracy: 0.9719 - val_loss: 0.0945\n",
            "Epoch 12/30\n",
            "\u001b[1m40/40\u001b[0m \u001b[32m━━━━━━━━━━━━━━━━━━━━\u001b[0m\u001b[37m\u001b[0m \u001b[1m0s\u001b[0m 6ms/step - accuracy: 0.9806 - loss: 0.0908 - val_accuracy: 0.9781 - val_loss: 0.0859\n",
            "Epoch 13/30\n",
            "\u001b[1m40/40\u001b[0m \u001b[32m━━━━━━━━━━━━━━━━━━━━\u001b[0m\u001b[37m\u001b[0m \u001b[1m0s\u001b[0m 6ms/step - accuracy: 0.9806 - loss: 0.0787 - val_accuracy: 0.9750 - val_loss: 0.0864\n",
            "Epoch 14/30\n",
            "\u001b[1m40/40\u001b[0m \u001b[32m━━━━━━━━━━━━━━━━━━━━\u001b[0m\u001b[37m\u001b[0m \u001b[1m0s\u001b[0m 9ms/step - accuracy: 0.9805 - loss: 0.0831 - val_accuracy: 0.9781 - val_loss: 0.0776\n",
            "Epoch 15/30\n",
            "\u001b[1m40/40\u001b[0m \u001b[32m━━━━━━━━━━━━━━━━━━━━\u001b[0m\u001b[37m\u001b[0m \u001b[1m1s\u001b[0m 6ms/step - accuracy: 0.9872 - loss: 0.0630 - val_accuracy: 0.9781 - val_loss: 0.0714\n",
            "Epoch 16/30\n",
            "\u001b[1m40/40\u001b[0m \u001b[32m━━━━━━━━━━━━━━━━━━━━\u001b[0m\u001b[37m\u001b[0m \u001b[1m0s\u001b[0m 5ms/step - accuracy: 0.9826 - loss: 0.0682 - val_accuracy: 0.9750 - val_loss: 0.0694\n",
            "Epoch 17/30\n",
            "\u001b[1m40/40\u001b[0m \u001b[32m━━━━━━━━━━━━━━━━━━━━\u001b[0m\u001b[37m\u001b[0m \u001b[1m0s\u001b[0m 7ms/step - accuracy: 0.9891 - loss: 0.0564 - val_accuracy: 0.9781 - val_loss: 0.0667\n",
            "Epoch 18/30\n",
            "\u001b[1m40/40\u001b[0m \u001b[32m━━━━━━━━━━━━━━━━━━━━\u001b[0m\u001b[37m\u001b[0m \u001b[1m0s\u001b[0m 7ms/step - accuracy: 0.9825 - loss: 0.0647 - val_accuracy: 0.9781 - val_loss: 0.0630\n",
            "Epoch 19/30\n",
            "\u001b[1m40/40\u001b[0m \u001b[32m━━━━━━━━━━━━━━━━━━━━\u001b[0m\u001b[37m\u001b[0m \u001b[1m0s\u001b[0m 4ms/step - accuracy: 0.9904 - loss: 0.0585 - val_accuracy: 0.9937 - val_loss: 0.0595\n",
            "Epoch 20/30\n",
            "\u001b[1m40/40\u001b[0m \u001b[32m━━━━━━━━━━━━━━━━━━━━\u001b[0m\u001b[37m\u001b[0m \u001b[1m0s\u001b[0m 4ms/step - accuracy: 0.9910 - loss: 0.0562 - val_accuracy: 0.9812 - val_loss: 0.0602\n",
            "Epoch 21/30\n",
            "\u001b[1m40/40\u001b[0m \u001b[32m━━━━━━━━━━━━━━━━━━━━\u001b[0m\u001b[37m\u001b[0m \u001b[1m0s\u001b[0m 4ms/step - accuracy: 0.9859 - loss: 0.0556 - val_accuracy: 0.9906 - val_loss: 0.0561\n",
            "Epoch 22/30\n",
            "\u001b[1m40/40\u001b[0m \u001b[32m━━━━━━━━━━━━━━━━━━━━\u001b[0m\u001b[37m\u001b[0m \u001b[1m0s\u001b[0m 4ms/step - accuracy: 0.9851 - loss: 0.0573 - val_accuracy: 0.9844 - val_loss: 0.0575\n",
            "Epoch 23/30\n",
            "\u001b[1m40/40\u001b[0m \u001b[32m━━━━━━━━━━━━━━━━━━━━\u001b[0m\u001b[37m\u001b[0m \u001b[1m0s\u001b[0m 4ms/step - accuracy: 0.9903 - loss: 0.0524 - val_accuracy: 0.9812 - val_loss: 0.0538\n",
            "Epoch 24/30\n",
            "\u001b[1m40/40\u001b[0m \u001b[32m━━━━━━━━━━━━━━━━━━━━\u001b[0m\u001b[37m\u001b[0m \u001b[1m0s\u001b[0m 4ms/step - accuracy: 0.9933 - loss: 0.0442 - val_accuracy: 0.9812 - val_loss: 0.0568\n",
            "Epoch 25/30\n",
            "\u001b[1m40/40\u001b[0m \u001b[32m━━━━━━━━━━━━━━━━━━━━\u001b[0m\u001b[37m\u001b[0m \u001b[1m0s\u001b[0m 4ms/step - accuracy: 0.9802 - loss: 0.0517 - val_accuracy: 0.9719 - val_loss: 0.0515\n",
            "Epoch 26/30\n",
            "\u001b[1m40/40\u001b[0m \u001b[32m━━━━━━━━━━━━━━━━━━━━\u001b[0m\u001b[37m\u001b[0m \u001b[1m0s\u001b[0m 5ms/step - accuracy: 0.9905 - loss: 0.0483 - val_accuracy: 0.9750 - val_loss: 0.0586\n",
            "Epoch 27/30\n",
            "\u001b[1m40/40\u001b[0m \u001b[32m━━━━━━━━━━━━━━━━━━━━\u001b[0m\u001b[37m\u001b[0m \u001b[1m0s\u001b[0m 4ms/step - accuracy: 0.9891 - loss: 0.0471 - val_accuracy: 0.9937 - val_loss: 0.0463\n",
            "Epoch 28/30\n",
            "\u001b[1m40/40\u001b[0m \u001b[32m━━━━━━━━━━━━━━━━━━━━\u001b[0m\u001b[37m\u001b[0m \u001b[1m0s\u001b[0m 4ms/step - accuracy: 0.9952 - loss: 0.0429 - val_accuracy: 0.9812 - val_loss: 0.0491\n",
            "Epoch 29/30\n",
            "\u001b[1m40/40\u001b[0m \u001b[32m━━━━━━━━━━━━━━━━━━━━\u001b[0m\u001b[37m\u001b[0m \u001b[1m0s\u001b[0m 5ms/step - accuracy: 0.9877 - loss: 0.0442 - val_accuracy: 0.9969 - val_loss: 0.0437\n",
            "Epoch 30/30\n",
            "\u001b[1m40/40\u001b[0m \u001b[32m━━━━━━━━━━━━━━━━━━━━\u001b[0m\u001b[37m\u001b[0m \u001b[1m0s\u001b[0m 4ms/step - accuracy: 0.9945 - loss: 0.0382 - val_accuracy: 0.9812 - val_loss: 0.0441\n",
            "\n",
            "Test Loss: 0.0345\n",
            "Test Accuracy: 0.9950\n"
          ]
        }
      ]
    },
    {
      "cell_type": "code",
      "source": [
        "#codingan tabel classification report\n",
        "\n",
        "from sklearn.metrics import classification_report\n",
        "from sklearn.linear_model import LogisticRegression # Contoh model klasifikasi\n",
        "\n",
        "# Ini hanya contoh. Anda perlu menyesuaikan kategori dan model\n",
        "# Mari kita buat masalah klasifikasi sederhana: apakah harga di atas median?\n",
        "median_price = df['Harga'].median()\n",
        "# Buat label kelas: 1 jika harga >= median, 0 jika harga < median\n",
        "df['Price_Category'] = (df['Harga'] >= median_price).astype(int)\n",
        "\n",
        "# Siapkan data untuk model klasifikasi\n",
        "# Menggunakan 'Ukuran' sebagai fitur untuk prediksi kategori harga\n",
        "X = df[['Ukuran']]\n",
        "y = df['Price_Category']\n",
        "\n",
        "# Gunakan model klasifikasi, contohnya Logistic Regression\n",
        "classifier = LogisticRegression()\n",
        "classifier.fit(X, y)\n",
        "y_pred = classifier.predict(X)\n",
        "\n",
        "# Buat Classification Report\n",
        "print(classification_report(y, y_pred))\n",
        "\n"
      ],
      "metadata": {
        "colab": {
          "base_uri": "https://localhost:8080/"
        },
        "id": "3YpmoxFfRUGB",
        "outputId": "3f5469a0-f25a-44f3-eed3-2387dcfe354e"
      },
      "execution_count": null,
      "outputs": [
        {
          "output_type": "stream",
          "name": "stdout",
          "text": [
            "              precision    recall  f1-score   support\n",
            "\n",
            "           0       0.94      0.95      0.95      1000\n",
            "           1       0.95      0.94      0.95      1000\n",
            "\n",
            "    accuracy                           0.95      2000\n",
            "   macro avg       0.95      0.95      0.95      2000\n",
            "weighted avg       0.95      0.95      0.95      2000\n",
            "\n"
          ]
        }
      ]
    },
    {
      "cell_type": "code",
      "source": [
        "# prompt: buatkan codingan confussion matriks\n",
        "\n",
        "import matplotlib.pyplot as plt\n",
        "from sklearn.metrics import confusion_matrix\n",
        "import seaborn as sns\n",
        "\n",
        "# Buat Confusion Matrix\n",
        "cm = confusion_matrix(y, y_pred)\n",
        "\n",
        "print(\"Confusion Matrix:\")\n",
        "print(cm)\n",
        "\n",
        "# Opsional: Visualisasikan Confusion Matrix menggunakan seaborn\n",
        "plt.figure(figsize=(8, 6))\n",
        "sns.heatmap(cm, annot=True, fmt='d', cmap='Blues', xticklabels=['< Median', '>= Median'], yticklabels=['< Median', '>= Median'])\n",
        "plt.xlabel('Predicted Label')\n",
        "plt.ylabel('True Label')\n",
        "plt.title('Confusion Matrix')\n",
        "plt.show()"
      ],
      "metadata": {
        "colab": {
          "base_uri": "https://localhost:8080/",
          "height": 616
        },
        "id": "ZV2dtCbTaSab",
        "outputId": "8292dded-4f47-4b6e-8649-53baae4e1d85"
      },
      "execution_count": null,
      "outputs": [
        {
          "output_type": "stream",
          "name": "stdout",
          "text": [
            "Confusion Matrix:\n",
            "[[951  49]\n",
            " [ 58 942]]\n"
          ]
        },
        {
          "output_type": "display_data",
          "data": {
            "text/plain": [
              "<Figure size 800x600 with 2 Axes>"
            ],
            "image/png": "[encoded data removed]"
          },
          "metadata": {}
        }
      ]
    },
    {
      "cell_type": "code",
      "source": [
        "# Definisikan fungsi untuk klasifikasi harga berdasarkan ukuran\n",
        "def klasifikasi_harga_by_ukuran(ukuran):\n",
        "    if ukuran < 0.5:\n",
        "        return \"Murah\"\n",
        "    elif 0.5 <= ukuran < 1.5:\n",
        "        return \"Sedang\"\n",
        "    else:\n",
        "        return \"Mahal\"\n",
        "\n",
        "# Fungsi untuk memperkirakan harga dan label berdasarkan ukuran input\n",
        "def prediksi_harga_dan_label(ukuran):\n",
        "    # Anda perlu mengganti ini dengan logika prediksi harga yang sebenarnya\n",
        "    # Berdasarkan model regresi linear atau model lain yang sudah Anda latih sebelumnya.\n",
        "    # Karena model regiksi linear di kode sebelumnya tidak dilatih untuk memprediksi harga\n",
        "    # (melainkan digunakan untuk klasifikasi sederhana), kita akan membuat estimasi kasar\n",
        "    # atau menggunakan model yang sesuai jika Anda memilikinya.\n",
        "\n",
        "    # Contoh estimasi harga berdasarkan ukuran (ini HANYA contoh)\n",
        "    perkiraan_harga = ukuran * 15000  # Contoh: harga per unit ukuran\n",
        "\n",
        "    # Klasifikasikan label harga berdasarkan perkiraan harga\n",
        "    # Anda bisa menggunakan ambang batas yang sama seperti yang digunakan dalam dataset\n",
        "    # atau berdasarkan kategori harga yang sudah Anda definisikan.\n",
        "    # Mari gunakan ambang batas kasar untuk demonstrasi\n",
        "    if perkiraan_harga < 30000: # Ganti dengan ambang batas yang relevan dari data Anda\n",
        "        label_harga = \"Murah\"\n",
        "    elif 30000 <= perkiraan_harga < 80000: # Ganti dengan ambang batas yang relevan\n",
        "        label_harga = \"Sedang\"\n",
        "    else:\n",
        "        label_harga = \"Mahal\"\n",
        "\n",
        "    # Atau gunakan fungsi klasifikasi berdasarkan ukuran jika itu lebih sesuai\n",
        "    # label_harga = klasifikasi_harga_by_ukuran(ukuran)\n",
        "\n",
        "    return perkiraan_harga, label_harga\n",
        "\n",
        "# Minta input ukuran dari pengguna\n",
        "try:\n",
        "    input_ukuran = float(input(\"Masukkan ukuran (dalam satuan yang relevan, misal kg): \"))\n",
        "\n",
        "    # Dapatkan perkiraan harga dan label\n",
        "    harga_prediksi, label_prediksi = prediksi_harga_dan_label(input_ukuran)\n",
        "\n",
        "    # Tampilkan hasilnya\n",
        "    print(f\"\\nUntuk ukuran {input_ukuran}:\")\n",
        "    print(f\"Perkiraan Harga: Rp {harga_prediksi:,.2f}\")\n",
        "    print(f\"Label Harga: {label_prediksi}\")\n",
        "\n",
        "except ValueError:\n",
        "    print(\"Input tidak valid. Harap masukkan angka untuk ukuran.\")"
      ],
      "metadata": {
        "colab": {
          "base_uri": "https://localhost:8080/"
        },
        "id": "gqKcEoXZqpSa",
        "outputId": "0948b72f-fd60-456f-8a9b-1af3deca11c4"
      },
      "execution_count": null,
      "outputs": [
        {
          "output_type": "stream",
          "name": "stdout",
          "text": [
            "Masukkan ukuran (dalam satuan yang relevan, misal kg): 1.5\n",
            "\n",
            "Untuk ukuran 1.5:\n",
            "Perkiraan Harga: Rp 22,500.00\n",
            "Label Harga: Murah\n"
          ]
        }
      ]
    }
  ]
}